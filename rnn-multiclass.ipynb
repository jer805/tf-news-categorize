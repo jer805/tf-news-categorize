{
 "cells": [
  {
   "cell_type": "markdown",
   "id": "972bd31d-1e6e-4523-8a92-c6c8cb979994",
   "metadata": {},
   "source": [
    "Dataset downloaded from https://www.kaggle.com/amananandrai/ag-news-classification-dataset"
   ]
  },
  {
   "cell_type": "code",
   "execution_count": 1,
   "id": "2626f577-ed4d-43ca-bcef-f0417e89e8a9",
   "metadata": {},
   "outputs": [],
   "source": [
    "import os\n",
    "import pandas as pd\n",
    "import json\n",
    "import re\n",
    "import tensorflow as tf\n",
    "import numpy as np\n",
    "import matplotlib.pyplot as plt\n",
    "from keras.preprocessing.text import Tokenizer\n",
    "from keras import Model\n",
    "from keras.layers import concatenate"
   ]
  },
  {
   "cell_type": "code",
   "execution_count": 14,
   "id": "c0c70937-46d8-47cf-b890-f881ab12b039",
   "metadata": {},
   "outputs": [],
   "source": [
    "os.chdir('/Users/Jeremy/scripts/newscat')\n",
    "df = pd.read_csv('train.csv')"
   ]
  },
  {
   "cell_type": "markdown",
   "id": "e02b1591-3e28-4119-a79d-87c7d486df7a",
   "metadata": {},
   "source": [
    "The dataframe has two text columns. We could concatenate them together as a single entry, but common sense tells us they are qualitatively different fields. Let's build a concetenation model to treat both fields as separate features."
   ]
  },
  {
   "cell_type": "code",
   "execution_count": 15,
   "id": "e3b8f4ca-28da-4984-a42b-2fd3c93ae08a",
   "metadata": {},
   "outputs": [
    {
     "data": {
      "text/html": [
       "<div>\n",
       "<style scoped>\n",
       "    .dataframe tbody tr th:only-of-type {\n",
       "        vertical-align: middle;\n",
       "    }\n",
       "\n",
       "    .dataframe tbody tr th {\n",
       "        vertical-align: top;\n",
       "    }\n",
       "\n",
       "    .dataframe thead th {\n",
       "        text-align: right;\n",
       "    }\n",
       "</style>\n",
       "<table border=\"1\" class=\"dataframe\">\n",
       "  <thead>\n",
       "    <tr style=\"text-align: right;\">\n",
       "      <th></th>\n",
       "      <th>Class Index</th>\n",
       "      <th>Title</th>\n",
       "      <th>Description</th>\n",
       "    </tr>\n",
       "  </thead>\n",
       "  <tbody>\n",
       "    <tr>\n",
       "      <th>0</th>\n",
       "      <td>3</td>\n",
       "      <td>Wall St. Bears Claw Back Into the Black (Reuters)</td>\n",
       "      <td>Reuters - Short-sellers, Wall Street's dwindli...</td>\n",
       "    </tr>\n",
       "    <tr>\n",
       "      <th>1</th>\n",
       "      <td>3</td>\n",
       "      <td>Carlyle Looks Toward Commercial Aerospace (Reu...</td>\n",
       "      <td>Reuters - Private investment firm Carlyle Grou...</td>\n",
       "    </tr>\n",
       "    <tr>\n",
       "      <th>2</th>\n",
       "      <td>3</td>\n",
       "      <td>Oil and Economy Cloud Stocks' Outlook (Reuters)</td>\n",
       "      <td>Reuters - Soaring crude prices plus worries\\ab...</td>\n",
       "    </tr>\n",
       "    <tr>\n",
       "      <th>3</th>\n",
       "      <td>3</td>\n",
       "      <td>Iraq Halts Oil Exports from Main Southern Pipe...</td>\n",
       "      <td>Reuters - Authorities have halted oil export\\f...</td>\n",
       "    </tr>\n",
       "    <tr>\n",
       "      <th>4</th>\n",
       "      <td>3</td>\n",
       "      <td>Oil prices soar to all-time record, posing new...</td>\n",
       "      <td>AFP - Tearaway world oil prices, toppling reco...</td>\n",
       "    </tr>\n",
       "  </tbody>\n",
       "</table>\n",
       "</div>"
      ],
      "text/plain": [
       "   Class Index                                              Title  \\\n",
       "0            3  Wall St. Bears Claw Back Into the Black (Reuters)   \n",
       "1            3  Carlyle Looks Toward Commercial Aerospace (Reu...   \n",
       "2            3    Oil and Economy Cloud Stocks' Outlook (Reuters)   \n",
       "3            3  Iraq Halts Oil Exports from Main Southern Pipe...   \n",
       "4            3  Oil prices soar to all-time record, posing new...   \n",
       "\n",
       "                                         Description  \n",
       "0  Reuters - Short-sellers, Wall Street's dwindli...  \n",
       "1  Reuters - Private investment firm Carlyle Grou...  \n",
       "2  Reuters - Soaring crude prices plus worries\\ab...  \n",
       "3  Reuters - Authorities have halted oil export\\f...  \n",
       "4  AFP - Tearaway world oil prices, toppling reco...  "
      ]
     },
     "execution_count": 15,
     "metadata": {},
     "output_type": "execute_result"
    }
   ],
   "source": [
    "df.head()"
   ]
  },
  {
   "cell_type": "code",
   "execution_count": 2,
   "id": "e87b1f21-8822-442e-8542-07086a95ce90",
   "metadata": {},
   "outputs": [],
   "source": [
    "NOTES = ''\n",
    "LEN = len(df)\n",
    "SPLIT = 0.9\n",
    "LAYERS = 2\n",
    "DROPOUT = 0.5\n",
    "BATCH = 100\n",
    "EPOCHS = 5\n",
    "SMOOTHING = 0.1\n",
    "NODES_1 = 100\n",
    "NODES_2 = 32\n",
    "NODES_3 = 0"
   ]
  },
  {
   "cell_type": "code",
   "execution_count": 3,
   "id": "0f69e861-1d56-4511-a6a0-3cea20f5dd21",
   "metadata": {},
   "outputs": [],
   "source": [
    "log = pd.read_csv('text_and_title.csv')\n",
    "\n",
    "X = df['Description']\n",
    "Y = pd.get_dummies(df['Class Index'])\n",
    "\n",
    "X2 = df['Title']"
   ]
  },
  {
   "cell_type": "code",
   "execution_count": 4,
   "id": "d3235e60-3d7d-4e76-87fd-131689b2fcb5",
   "metadata": {},
   "outputs": [],
   "source": [
    "tokenizer = Tokenizer(lower=True)\n",
    "tokenizer.fit_on_texts(X.values)\n",
    "\n",
    "encoder = tf.keras.layers.TextVectorization(\n",
    "    max_tokens=None)\n",
    "\n",
    "encoder.adapt(X)\n",
    "\n",
    "tokenizer2 = Tokenizer(lower=True)\n",
    "tokenizer2.fit_on_texts(X.values)\n",
    "\n",
    "encoder2 = tf.keras.layers.TextVectorization(\n",
    "    max_tokens=None)\n",
    "\n",
    "encoder2.adapt(X2)"
   ]
  },
  {
   "cell_type": "code",
   "execution_count": 5,
   "id": "6ff28739-93eb-4e98-a50d-7612a090a72e",
   "metadata": {},
   "outputs": [],
   "source": [
    "mod = tf.keras.Sequential()\n",
    "\n",
    "mod.add(tf.keras.Input(shape=(1,), dtype=tf.string))\n",
    "mod.add(encoder)\n",
    "mod.add(tf.keras.layers.Embedding(len(encoder.get_vocabulary()), NODES_1, mask_zero=True))\n",
    "mod.add(tf.keras.layers.Bidirectional(tf.keras.layers.LSTM(NODES_1,  return_sequences=True)))\n",
    "mod.add(tf.keras.layers.Bidirectional(tf.keras.layers.LSTM(NODES_2)))"
   ]
  },
  {
   "cell_type": "code",
   "execution_count": 6,
   "id": "e6a7e61c-a267-4c94-b80a-5ebd9650cd08",
   "metadata": {},
   "outputs": [],
   "source": [
    "mod2 = tf.keras.Sequential()\n",
    "\n",
    "mod2.add(tf.keras.Input(shape=(1,), dtype=tf.string))\n",
    "mod2.add(encoder2)\n",
    "mod2.add(tf.keras.layers.Embedding(len(encoder.get_vocabulary()), NODES_1, mask_zero=True))\n",
    "mod2.add(tf.keras.layers.Bidirectional(tf.keras.layers.LSTM(NODES_1,  return_sequences=True)))\n",
    "mod2.add(tf.keras.layers.Bidirectional(tf.keras.layers.LSTM(NODES_2)))"
   ]
  },
  {
   "cell_type": "code",
   "execution_count": 7,
   "id": "31e463e6-1889-4af6-b259-f59ad3e62206",
   "metadata": {},
   "outputs": [],
   "source": [
    "model_concat = concatenate([mod.output,mod2.output])\n",
    "model_concat = tf.keras.layers.Dense(NODES_2, activation='relu')(model_concat)\n",
    "model_concat = tf.keras.layers.Dropout(DROPOUT)(model_concat)\n",
    "model_concat = tf.keras.layers.Dense(Y.shape[1], activation='softmax')(model_concat)\n",
    "\n",
    "model = Model(inputs=[mod.input, mod2.input], outputs=model_concat)\n",
    "\n",
    "model.compile(loss=tf.keras.losses.CategoricalCrossentropy(label_smoothing=SMOOTHING, from_logits=False),\n",
    "            optimizer=tf.keras.optimizers.Adam(1e-4),\n",
    "            metrics=([tf.keras.metrics.CategoricalCrossentropy(name='CatCrossentropy'), \n",
    "            tf.keras.metrics.CategoricalAccuracy(name='CatAccuracy'),\n",
    "            tf.keras.metrics.Recall(name='Recall')]))"
   ]
  },
  {
   "cell_type": "code",
   "execution_count": 8,
   "id": "34391002-ec7b-4dad-a81f-932ab7a5ee52",
   "metadata": {},
   "outputs": [
    {
     "name": "stdout",
     "output_type": "stream",
     "text": [
      "Model: \"model\"\n",
      "__________________________________________________________________________________________________\n",
      " Layer (type)                   Output Shape         Param #     Connected to                     \n",
      "==================================================================================================\n",
      " input_1 (InputLayer)           [(None, 1)]          0           []                               \n",
      "                                                                                                  \n",
      " input_2 (InputLayer)           [(None, 1)]          0           []                               \n",
      "                                                                                                  \n",
      " text_vectorization (TextVector  (None, None)        0           ['input_1[0][0]']                \n",
      " ization)                                                                                         \n",
      "                                                                                                  \n",
      " text_vectorization_1 (TextVect  (None, None)        0           ['input_2[0][0]']                \n",
      " orization)                                                                                       \n",
      "                                                                                                  \n",
      " embedding (Embedding)          (None, None, 100)    9313700     ['text_vectorization[0][0]']     \n",
      "                                                                                                  \n",
      " embedding_1 (Embedding)        (None, None, 100)    9313700     ['text_vectorization_1[0][0]']   \n",
      "                                                                                                  \n",
      " bidirectional (Bidirectional)  (None, None, 200)    160800      ['embedding[0][0]']              \n",
      "                                                                                                  \n",
      " bidirectional_2 (Bidirectional  (None, None, 200)   160800      ['embedding_1[0][0]']            \n",
      " )                                                                                                \n",
      "                                                                                                  \n",
      " bidirectional_1 (Bidirectional  (None, 64)          59648       ['bidirectional[0][0]']          \n",
      " )                                                                                                \n",
      "                                                                                                  \n",
      " bidirectional_3 (Bidirectional  (None, 64)          59648       ['bidirectional_2[0][0]']        \n",
      " )                                                                                                \n",
      "                                                                                                  \n",
      " concatenate (Concatenate)      (None, 128)          0           ['bidirectional_1[0][0]',        \n",
      "                                                                  'bidirectional_3[0][0]']        \n",
      "                                                                                                  \n",
      " dense (Dense)                  (None, 32)           4128        ['concatenate[0][0]']            \n",
      "                                                                                                  \n",
      " dropout (Dropout)              (None, 32)           0           ['dense[0][0]']                  \n",
      "                                                                                                  \n",
      " dense_1 (Dense)                (None, 4)            132         ['dropout[0][0]']                \n",
      "                                                                                                  \n",
      "==================================================================================================\n",
      "Total params: 19,072,556\n",
      "Trainable params: 19,072,556\n",
      "Non-trainable params: 0\n",
      "__________________________________________________________________________________________________\n"
     ]
    }
   ],
   "source": [
    "model.summary()"
   ]
  },
  {
   "cell_type": "code",
   "execution_count": 9,
   "id": "46bac703-7033-433f-8d76-408632db2a6d",
   "metadata": {},
   "outputs": [
    {
     "name": "stdout",
     "output_type": "stream",
     "text": [
      "Epoch 1/5\n",
      "120/120 [==============================] - 172s 1s/step - loss: 1.3767 - CatCrossentropy: 1.3756 - CatAccuracy: 0.3609 - Recall: 0.0000e+00 - val_loss: 1.3543 - val_CatCrossentropy: 1.3506 - val_CatAccuracy: 0.6050 - val_Recall: 0.0000e+00\n",
      "Epoch 2/5\n",
      "120/120 [==============================] - 126s 1s/step - loss: 1.1080 - CatCrossentropy: 1.0477 - CatAccuracy: 0.6196 - Recall: 0.2165 - val_loss: 0.8877 - val_CatCrossentropy: 0.7885 - val_CatAccuracy: 0.7544 - val_Recall: 0.4982\n",
      "Epoch 3/5\n",
      "120/120 [==============================] - 142s 1s/step - loss: 0.7410 - CatCrossentropy: 0.5731 - CatAccuracy: 0.8377 - Recall: 0.7039 - val_loss: 0.7234 - val_CatCrossentropy: 0.5629 - val_CatAccuracy: 0.8187 - val_Recall: 0.7462\n",
      "Epoch 4/5\n",
      "120/120 [==============================] - 145s 1s/step - loss: 0.6143 - CatCrossentropy: 0.3972 - CatAccuracy: 0.9063 - Recall: 0.8373 - val_loss: 0.7100 - val_CatCrossentropy: 0.5322 - val_CatAccuracy: 0.8212 - val_Recall: 0.7722\n",
      "Epoch 5/5\n",
      "120/120 [==============================] - 126s 1s/step - loss: 0.5509 - CatCrossentropy: 0.3090 - CatAccuracy: 0.9367 - Recall: 0.8855 - val_loss: 0.7169 - val_CatCrossentropy: 0.5292 - val_CatAccuracy: 0.8188 - val_Recall: 0.7794\n"
     ]
    }
   ],
   "source": [
    "history = model.fit(x=[X.values, X2.values], y=Y.values, batch_size = BATCH, epochs=EPOCHS,\n",
    "    validation_split=SPLIT, verbose=True)"
   ]
  },
  {
   "cell_type": "code",
   "execution_count": 10,
   "id": "cb3c38a8-031e-4dae-93bf-5fbbc8ad6274",
   "metadata": {},
   "outputs": [],
   "source": [
    "pred = model.predict([df['Description'], df['Title']])\n",
    "pred = pd.Series(np.argmax(pred, axis=1))\n",
    "pred += 1\n",
    "df['pred'] = pred\n",
    "\n",
    "\n",
    "ACC = len(df[df['pred']==df['Class Index']])/len(df)\n",
    "print(ACC)"
   ]
  },
  {
   "cell_type": "code",
   "execution_count": 11,
   "id": "734d6d49-4284-4cf6-b45c-bf5844081bf0",
   "metadata": {},
   "outputs": [
    {
     "name": "stdout",
     "output_type": "stream",
     "text": [
      "{'accuracy': 0.8335416666666666, 'notes': '', 'len': 120000, 'split': 0.9, 'layers': 2, 'dropout': 0.5, 'batch': 100, 'epochs': 5, 'smoothing': 0.1, 'nodes1': 100, 'nodes2': 32, 'nodes3': 0}\n"
     ]
    }
   ],
   "source": [
    "row = {'accuracy': ACC, 'notes': NOTES, 'len': LEN,\n",
    "    'split': SPLIT, 'layers': LAYERS, 'dropout': DROPOUT,\n",
    "    'batch': BATCH, 'epochs': EPOCHS, 'smoothing': SMOOTHING,\n",
    "    'nodes1': NODES_1, 'nodes2': NODES_2, 'nodes3': NODES_3}\n",
    "\n",
    "print(row)\n",
    "\n",
    "log = log.append(row, ignore_index=True)\n",
    "log.to_csv('text_and_title.csv', index=False)"
   ]
  },
  {
   "cell_type": "markdown",
   "id": "63ff9909-32db-4654-99b9-c0f2702781b5",
   "metadata": {},
   "source": [
    "This model gets a max accuracy of .83, versus 0.80 for the description-only model. Not extraordinary, but it's not nothing!"
   ]
  },
  {
   "cell_type": "code",
   "execution_count": null,
   "id": "73bd6cbb-4357-465f-bab4-d3fe84158cca",
   "metadata": {},
   "outputs": [],
   "source": []
  }
 ],
 "metadata": {
  "kernelspec": {
   "display_name": "Python 3",
   "language": "python",
   "name": "python3"
  },
  "language_info": {
   "codemirror_mode": {
    "name": "ipython",
    "version": 3
   },
   "file_extension": ".py",
   "mimetype": "text/x-python",
   "name": "python",
   "nbconvert_exporter": "python",
   "pygments_lexer": "ipython3",
   "version": "3.8.8"
  }
 },
 "nbformat": 4,
 "nbformat_minor": 5
}
